{
  "cells": [
    {
      "cell_type": "code",
      "execution_count": 1,
      "metadata": {
        "id": "etZCoQ7QNZrq"
      },
      "outputs": [],
      "source": [
        "import tensorflow as tf\n",
        "from keras.preprocessing.image import ImageDataGenerator"
      ]
    },
    {
      "cell_type": "code",
      "execution_count": 2,
      "metadata": {
        "colab": {
          "base_uri": "https://localhost:8080/"
        },
        "id": "w49Wx3G2noCl",
        "outputId": "e63ce7b2-f3b9-4d0d-afde-b52c503836a6"
      },
      "outputs": [
        {
          "output_type": "stream",
          "name": "stdout",
          "text": [
            "Mounted at /content/drive\n"
          ]
        }
      ],
      "source": [
        "from google.colab import drive\n",
        "drive.mount('/content/drive')"
      ]
    },
    {
      "cell_type": "code",
      "execution_count": 3,
      "metadata": {
        "colab": {
          "base_uri": "https://localhost:8080/"
        },
        "id": "HswhKuoloGdt",
        "outputId": "8b5d0cbd-b151-4a5e-a37d-1214c153a585"
      },
      "outputs": [
        {
          "output_type": "stream",
          "name": "stdout",
          "text": [
            "/content/drive/MyDrive/CatsVDogs/dataset\n"
          ]
        }
      ],
      "source": [
        "%cd '/content/drive/MyDrive/CatsVDogs/dataset'"
      ]
    },
    {
      "cell_type": "code",
      "execution_count": 4,
      "metadata": {
        "id": "kfN7fNduXjhX"
      },
      "outputs": [],
      "source": [
        "train_datagen = ImageDataGenerator(\n",
        "        rescale = 1./255,\n",
        "        shear_range = 0.2,\n",
        "        zoom_range = 0.2,\n",
        "        horizontal_flip = True)"
      ]
    },
    {
      "cell_type": "code",
      "execution_count": 5,
      "metadata": {
        "colab": {
          "base_uri": "https://localhost:8080/"
        },
        "id": "dksc0_VKY7_3",
        "outputId": "7ceff2da-9cec-498b-a5f0-62e94266734d"
      },
      "outputs": [
        {
          "output_type": "stream",
          "name": "stdout",
          "text": [
            "Found 8000 images belonging to 2 classes.\n"
          ]
        }
      ],
      "source": [
        "train_set = train_datagen.flow_from_directory(\n",
        "    directory='/content/drive/MyDrive/CatsVDogs/dataset/training_set',\n",
        "    target_size=(64, 64),\n",
        "    batch_size=32,\n",
        "    class_mode='binary'\n",
        ")"
      ]
    },
    {
      "cell_type": "code",
      "execution_count": 6,
      "metadata": {
        "colab": {
          "base_uri": "https://localhost:8080/"
        },
        "id": "AEB2EPEPscT6",
        "outputId": "c8c3cebf-63ef-4e54-aa1a-4081850f0eb2"
      },
      "outputs": [
        {
          "output_type": "stream",
          "name": "stdout",
          "text": [
            "Found 2000 images belonging to 2 classes.\n"
          ]
        }
      ],
      "source": [
        "test_datagen = ImageDataGenerator(rescale = 1./255)\n",
        "test_set = test_datagen.flow_from_directory(\n",
        "    directory='/content/drive/MyDrive/CatsVDogs/dataset/test_set',\n",
        "    target_size=(64, 64),\n",
        "    batch_size=32,\n",
        "    class_mode='binary'\n",
        ")"
      ]
    },
    {
      "cell_type": "code",
      "execution_count": 7,
      "metadata": {
        "id": "V6Jrq3-Mtavp"
      },
      "outputs": [],
      "source": [
        "cnn = tf.keras.models.Sequential()"
      ]
    },
    {
      "cell_type": "code",
      "execution_count": 8,
      "metadata": {
        "id": "FF8rxn5ku28R"
      },
      "outputs": [],
      "source": [
        "cnn.add(tf.keras.layers.Conv2D(filters = 32, kernel_size = 3, activation = 'relu' , input_shape = [64,64,3]))"
      ]
    },
    {
      "cell_type": "code",
      "execution_count": 9,
      "metadata": {
        "id": "PYq2NwsTvSWy"
      },
      "outputs": [],
      "source": [
        "cnn.add(tf.keras.layers.MaxPool2D(pool_size = 2, strides = 2))"
      ]
    },
    {
      "cell_type": "code",
      "execution_count": 10,
      "metadata": {
        "id": "qrP-dsTn0Krd"
      },
      "outputs": [],
      "source": [
        "cnn.add(tf.keras.layers.Conv2D(filters = 32, kernel_size = 3, activation = 'relu'))\n",
        "cnn.add(tf.keras.layers.MaxPool2D(pool_size = 2, strides = 2))"
      ]
    },
    {
      "cell_type": "code",
      "execution_count": 11,
      "metadata": {
        "id": "A5pWrTbT0ns-"
      },
      "outputs": [],
      "source": [
        "cnn.add(tf.keras.layers.Flatten())"
      ]
    },
    {
      "cell_type": "code",
      "execution_count": 12,
      "metadata": {
        "id": "h4ixAlAJ03a_"
      },
      "outputs": [],
      "source": [
        "cnn.add(tf.keras.layers.Dense(units = 128, activation = 'relu'))\n",
        "cnn.add(tf.keras.layers.Dense(units = 1, activation = 'sigmoid'))"
      ]
    },
    {
      "cell_type": "code",
      "execution_count": 13,
      "metadata": {
        "id": "awsS2F0mGpsA"
      },
      "outputs": [],
      "source": [
        "cnn.compile(optimizer = 'adam', loss = 'binary_crossentropy', metrics = ['accuracy'])"
      ]
    },
    {
      "cell_type": "code",
      "execution_count": 14,
      "metadata": {
        "colab": {
          "base_uri": "https://localhost:8080/"
        },
        "id": "HViBTT34HMUn",
        "outputId": "982b8395-0838-4374-ff9f-b9bd1c9cc76d"
      },
      "outputs": [
        {
          "output_type": "stream",
          "name": "stdout",
          "text": [
            "Epoch 1/25\n",
            "250/250 [==============================] - 1278s 5s/step - loss: 0.6508 - accuracy: 0.6149 - val_loss: 0.6556 - val_accuracy: 0.6105\n",
            "Epoch 2/25\n",
            "250/250 [==============================] - 74s 294ms/step - loss: 0.5799 - accuracy: 0.6916 - val_loss: 0.5459 - val_accuracy: 0.7115\n",
            "Epoch 3/25\n",
            "250/250 [==============================] - 75s 302ms/step - loss: 0.5487 - accuracy: 0.7230 - val_loss: 0.5314 - val_accuracy: 0.7380\n",
            "Epoch 4/25\n",
            "250/250 [==============================] - 73s 294ms/step - loss: 0.5151 - accuracy: 0.7429 - val_loss: 0.5551 - val_accuracy: 0.7305\n",
            "Epoch 5/25\n",
            "250/250 [==============================] - 76s 304ms/step - loss: 0.4921 - accuracy: 0.7609 - val_loss: 0.5319 - val_accuracy: 0.7405\n",
            "Epoch 6/25\n",
            "250/250 [==============================] - 76s 304ms/step - loss: 0.4795 - accuracy: 0.7679 - val_loss: 0.4888 - val_accuracy: 0.7685\n",
            "Epoch 7/25\n",
            "250/250 [==============================] - 73s 292ms/step - loss: 0.4616 - accuracy: 0.7845 - val_loss: 0.5143 - val_accuracy: 0.7620\n",
            "Epoch 8/25\n",
            "250/250 [==============================] - 77s 308ms/step - loss: 0.4441 - accuracy: 0.7859 - val_loss: 0.4944 - val_accuracy: 0.7740\n",
            "Epoch 9/25\n",
            "250/250 [==============================] - 75s 299ms/step - loss: 0.4144 - accuracy: 0.8085 - val_loss: 0.4642 - val_accuracy: 0.7860\n",
            "Epoch 10/25\n",
            "250/250 [==============================] - 78s 312ms/step - loss: 0.4193 - accuracy: 0.8015 - val_loss: 0.4764 - val_accuracy: 0.7765\n",
            "Epoch 11/25\n",
            "250/250 [==============================] - 72s 289ms/step - loss: 0.3990 - accuracy: 0.8154 - val_loss: 0.4819 - val_accuracy: 0.7880\n",
            "Epoch 12/25\n",
            "250/250 [==============================] - 76s 302ms/step - loss: 0.3900 - accuracy: 0.8260 - val_loss: 0.4729 - val_accuracy: 0.7855\n",
            "Epoch 13/25\n",
            "250/250 [==============================] - 77s 307ms/step - loss: 0.3877 - accuracy: 0.8185 - val_loss: 0.4518 - val_accuracy: 0.7960\n",
            "Epoch 14/25\n",
            "250/250 [==============================] - 75s 301ms/step - loss: 0.3625 - accuracy: 0.8382 - val_loss: 0.4418 - val_accuracy: 0.8050\n",
            "Epoch 15/25\n",
            "250/250 [==============================] - 75s 299ms/step - loss: 0.3544 - accuracy: 0.8413 - val_loss: 0.4877 - val_accuracy: 0.7875\n",
            "Epoch 16/25\n",
            "250/250 [==============================] - 75s 298ms/step - loss: 0.3521 - accuracy: 0.8441 - val_loss: 0.4587 - val_accuracy: 0.8040\n",
            "Epoch 17/25\n",
            "250/250 [==============================] - 77s 309ms/step - loss: 0.3209 - accuracy: 0.8593 - val_loss: 0.4557 - val_accuracy: 0.7970\n",
            "Epoch 18/25\n",
            "250/250 [==============================] - 73s 292ms/step - loss: 0.3071 - accuracy: 0.8665 - val_loss: 0.5004 - val_accuracy: 0.8045\n",
            "Epoch 19/25\n",
            "250/250 [==============================] - 73s 290ms/step - loss: 0.3120 - accuracy: 0.8616 - val_loss: 0.4650 - val_accuracy: 0.8040\n",
            "Epoch 20/25\n",
            "250/250 [==============================] - 73s 292ms/step - loss: 0.2787 - accuracy: 0.8790 - val_loss: 0.4901 - val_accuracy: 0.7795\n",
            "Epoch 21/25\n",
            "250/250 [==============================] - 76s 302ms/step - loss: 0.2801 - accuracy: 0.8806 - val_loss: 0.4709 - val_accuracy: 0.8025\n",
            "Epoch 22/25\n",
            "250/250 [==============================] - 75s 302ms/step - loss: 0.2676 - accuracy: 0.8860 - val_loss: 0.4582 - val_accuracy: 0.8105\n",
            "Epoch 23/25\n",
            "250/250 [==============================] - 75s 301ms/step - loss: 0.2556 - accuracy: 0.8926 - val_loss: 0.4730 - val_accuracy: 0.8070\n",
            "Epoch 24/25\n",
            "250/250 [==============================] - 84s 335ms/step - loss: 0.2393 - accuracy: 0.8978 - val_loss: 0.4747 - val_accuracy: 0.8105\n",
            "Epoch 25/25\n",
            "250/250 [==============================] - 78s 312ms/step - loss: 0.2232 - accuracy: 0.9069 - val_loss: 0.5657 - val_accuracy: 0.7910\n"
          ]
        },
        {
          "output_type": "execute_result",
          "data": {
            "text/plain": [
              "<keras.src.callbacks.History at 0x7ad059f70d90>"
            ]
          },
          "metadata": {},
          "execution_count": 14
        }
      ],
      "source": [
        "cnn.fit(x = train_set, validation_data = test_set, epochs = 25)"
      ]
    },
    {
      "cell_type": "code",
      "execution_count": 15,
      "metadata": {
        "id": "yt-v812IRfOF",
        "colab": {
          "base_uri": "https://localhost:8080/"
        },
        "outputId": "9abfaa20-1c2a-4197-ea4f-5aaaefa3b6ba"
      },
      "outputs": [
        {
          "output_type": "stream",
          "name": "stdout",
          "text": [
            "1/1 [==============================] - 0s 201ms/step\n"
          ]
        }
      ],
      "source": [
        "import numpy as np\n",
        "from keras.preprocessing import image\n",
        "test_image = image.load_img('/content/drive/MyDrive/CatsVDogs/dataset/training_set/dogs/dog.1.jpg', target_size = (64,64))\n",
        "test_image = image.img_to_array(test_image)\n",
        "test_image = np.expand_dims(test_image, axis = 0)\n",
        "result = cnn.predict(test_image)\n",
        "train_set.class_indices\n",
        "if result[0][0] == 1:\n",
        "  prediction = 'dog'\n",
        "else:\n",
        "  prediction = 'cat'"
      ]
    },
    {
      "cell_type": "code",
      "execution_count": 16,
      "metadata": {
        "id": "bmRyYjxfYvqR",
        "colab": {
          "base_uri": "https://localhost:8080/",
          "height": 36
        },
        "outputId": "c8f2ff33-9a20-4c65-d94e-bf51e2e8aa47"
      },
      "outputs": [
        {
          "output_type": "execute_result",
          "data": {
            "text/plain": [
              "'dog'"
            ],
            "application/vnd.google.colaboratory.intrinsic+json": {
              "type": "string"
            }
          },
          "metadata": {},
          "execution_count": 16
        }
      ],
      "source": [
        "prediction"
      ]
    }
  ],
  "metadata": {
    "colab": {
      "provenance": []
    },
    "kernelspec": {
      "display_name": "Python 3",
      "name": "python3"
    },
    "language_info": {
      "name": "python"
    }
  },
  "nbformat": 4,
  "nbformat_minor": 0
}